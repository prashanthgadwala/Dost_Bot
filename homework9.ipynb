{
 "cells": [
  {
   "cell_type": "code",
   "execution_count": null,
   "metadata": {
    "vscode": {
     "languageId": "plaintext"
    }
   },
   "outputs": [],
   "source": [
    "import logging\n",
    "import nest_asyncio\n",
    "from telegram import Update\n",
    "from telegram.ext import Application, CommandHandler, MessageHandler, filters, CallbackContext\n",
    "from transformers import pipeline\n",
    "\n",
    "model = pipeline('text-generation', model='gpt2')\n",
    "\n",
    "logging.basicConfig(\n",
    "    format='%(asctime)s - %(name)s - %(levelname)s - %(message)s',\n",
    "    level=logging.INFO\n",
    ")\n",
    "logger = logging.getLogger(__name__)\n",
    "nest_asyncio.apply()\n",
    "\n",
    "async def start(update: Update, context: CallbackContext) -> None:\n",
    "    await update.message.reply_text('Hello! I am your AI Dost. How can I help you today?')\n",
    "\n",
    "async def process(update: Update, context: CallbackContext) -> None:\n",
    "    user_message = update.message.text\n",
    "    logger.info(f\"Received message: {user_message}\")\n",
    "\n",
    "    response = model(user_message, max_length=250)[0]['generated_text']\n",
    "    await update.message.reply_text(response)\n",
    "\n",
    "def main() -> None:\n",
    "    application = Application.builder().token(\"Do not use the token on public repository\").build()\n",
    "    application.add_handler(CommandHandler(\"start\", start))\n",
    "    application.add_handler(MessageHandler(filters.TEXT & ~filters.COMMAND, process))\n",
    "    application.run_polling()\n",
    "\n",
    "if __name__ == '__main__':\n",
    "    main()"
   ]
  }
 ],
 "metadata": {
  "language_info": {
   "name": "python"
  }
 },
 "nbformat": 4,
 "nbformat_minor": 2
}
