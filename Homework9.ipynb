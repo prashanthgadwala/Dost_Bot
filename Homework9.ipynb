import logging
import nest_asyncio
from telegram import Update
from telegram.ext import Application, CommandHandler, MessageHandler, filters, CallbackContext
from transformers import pipeline

model = pipeline('text-generation', model='gpt2')

logging.basicConfig(
    format='%(asctime)s - %(name)s - %(levelname)s - %(message)s',
    level=logging.INFO
)
logger = logging.getLogger(__name__)
nest_asyncio.apply()

async def start(update: Update, context: CallbackContext) -> None:
    await update.message.reply_text('Hello! I am your AI Dost. How can I help you today?')

async def process(update: Update, context: CallbackContext) -> None:
    user_message = update.message.text
    logger.info(f"Received message: {user_message}")

    response = model(user_message, max_length=250)[0]['generated_text']
    await update.message.reply_text(response)

def main() -> None:
    application = Application.builder().token("Can't share my token here on public repository").build()
    application.add_handler(CommandHandler("start", start))
    application.add_handler(MessageHandler(filters.TEXT & ~filters.COMMAND, process))
    application.run_polling()

if __name__ == '__main__':
    main()
